{
 "cells": [
  {
   "cell_type": "code",
   "execution_count": null,
   "metadata": {
    "collapsed": true
   },
   "outputs": [],
   "source": []
  },
  {
   "cell_type": "code",
   "execution_count": null,
   "outputs": [],
   "source": [
    "from __future__  import print_function  # Python 2/3 compatibility\n",
    "\n",
    "from gremlin_python import statics\n",
    "from gremlin_python.structure.graph import Graph\n",
    "from gremlin_python.process.graph_traversal import __\n",
    "from gremlin_python.process.strategies import *\n",
    "from gremlin_python.driver.driver_remote_connection import DriverRemoteConnection\n",
    "\n",
    "graph = Graph()\n",
    "\n",
    "remoteConn = DriverRemoteConnection('shared-opslab-neptune-instance-1.c6rb6dyvnrbg.us-east-2.neptune.amazonaws.com','g')\n",
    "\n",
    "# remoteConn = database-1-instance-1.c1dqdb3eljzx.eu-west-1.neptune.amazonaws.com:8182/gremlin, 'g'\n",
    "g = graph.traversal().withRemote(remoteConn)"
   ],
   "metadata": {
    "collapsed": false
   }
  },
  {
   "cell_type": "code",
   "execution_count": null,
   "outputs": [],
   "source": [
    "from gremlin_python import statics\n",
    "from gremlin_python.structure.graph import Graph\n",
    "from gremlin_python.process.graph_traversal import __\n",
    "from gremlin_python.process.strategies import *\n",
    "from gremlin_python.driver.driver_remote_connection import DriverRemoteConnection\n",
    "from gremlin_python.driver.aiohttp.transport import AiohttpTransport\n",
    "from gremlin_python.process.traversal import *\n",
    "import os\n",
    "\n",
    "port = 8182\n",
    "server = 'shared-opslab-neptune.cluster-c6rb6dyvnrbg.us-east-2.neptune.amazonaws.com'\n",
    "\n",
    "endpoint = f'wss://{server}:{port}/gremlin'\n",
    "\n",
    "graph=Graph()\n",
    "\n",
    "connection = DriverRemoteConnection(endpoint,'g',\n",
    "                 transport_factory=lambda:AiohttpTransport(call_from_event_loop=True))\n",
    "\n",
    "g = graph.traversal().withRemote(connection)\n",
    "\n",
    "# print(g.V().limit(3).toList())\n",
    "\n",
    "# results = (g.V().hasLabel('airport').\n",
    "#              sample(10).\n",
    "#               order().by('code').\n",
    "#               local(__.values('code','city').fold()).\n",
    "#               toList())\n",
    "\n",
    "results = g.V().has('runways',gte(6)).values('code')\n",
    "\n",
    "# Print the results in a tabular form with a row index\n",
    "for i,c in enumerate(results,1):\n",
    "    print(\"%2d %s\" % (i,c))\n",
    "\n",
    "connection.close()"
   ],
   "metadata": {
    "collapsed": false
   }
  },
  {
   "cell_type": "code",
   "execution_count": null,
   "outputs": [],
   "source": [
    "target = 'https://raw.githubusercontent.com/krlawrence/graph/master/sample-data/air-routes-latest-nodes.csv'\n",
    "endpoint"
   ],
   "metadata": {
    "collapsed": false
   }
  },
  {
   "cell_type": "code",
   "execution_count": null,
   "outputs": [],
   "source": [
    "!yum install curl --user"
   ],
   "metadata": {
    "collapsed": false
   }
  },
  {
   "cell_type": "code",
   "execution_count": null,
   "outputs": [],
   "source": [
    "%%bash\n",
    "\n",
    "!curl -X POST 'https://shared-opslab-neptune.cluster-c6rb6dyvnrbg.us-east-2.neptune.amazonaws.com:8182/loader' \\\n",
    "    -H 'Content-Type: application/json' -d '{\n",
    "      \"source\" : \"s3://sagemaker-shared-resources/graph-neptune/air-routes-latest-nodes.csv\",\n",
    "      \"format\" : \"csv\",\n",
    "      \"iamRoleArn\" : \"arn:aws:iam::857975912692:role/NeptuneLoadFromS3\",\n",
    "      \"region\" : \"us-east-2\",\n",
    "      \"failOnError\" : \"FALSE\",\n",
    "      \"parallelism\" : \"MEDIUM\",\n",
    "      \"updateSingleCardinalityProperties\" : \"FALSE\",\n",
    "      \"queueRequest\" : \"TRUE\"\n",
    "        }'"
   ],
   "metadata": {
    "collapsed": false
   }
  },
  {
   "cell_type": "code",
   "execution_count": null,
   "outputs": [],
   "source": [
    "import gensim\n",
    "from gensim.models import Word2Vec"
   ],
   "metadata": {
    "collapsed": false
   }
  },
  {
   "cell_type": "code",
   "execution_count": null,
   "outputs": [],
   "source": [
    "import nltk\n",
    "nltk.download('punkt')"
   ],
   "metadata": {
    "collapsed": false
   }
  },
  {
   "cell_type": "code",
   "execution_count": null,
   "outputs": [],
   "source": [
    "from nltk.tokenize import sent_tokenize, word_tokenize"
   ],
   "metadata": {
    "collapsed": false
   }
  },
  {
   "cell_type": "code",
   "execution_count": null,
   "outputs": [],
   "source": [
    "raw = ['dayslucky333@gmail', 'dayslucky222@gmail', 'daysl.ucky222@gmail',\n",
    "       'luckyday222@gmail.com',\n",
    "       'dayslucky', 'ralph@gmail.com', 'john@gmail.com']"
   ],
   "metadata": {
    "collapsed": false
   }
  },
  {
   "cell_type": "code",
   "execution_count": null,
   "outputs": [],
   "source": [
    "data = [word_tokenize(r)[0] for r in raw]\n",
    "data"
   ],
   "metadata": {
    "collapsed": false
   }
  },
  {
   "cell_type": "code",
   "execution_count": null,
   "outputs": [],
   "source": [
    "model_vec = gensim.models.Word2Vec([data], min_count=1, vector_size=3, window=1)"
   ],
   "metadata": {
    "collapsed": false
   }
  },
  {
   "cell_type": "code",
   "execution_count": null,
   "outputs": [],
   "source": [
    "model_vec.train([data], total_examples=3, epochs=5)"
   ],
   "metadata": {
    "collapsed": false
   }
  },
  {
   "cell_type": "code",
   "execution_count": null,
   "outputs": [],
   "source": [
    "model_vec.wv.similarity('dayslucky333', 'dayslucky222')"
   ],
   "metadata": {
    "collapsed": false
   }
  },
  {
   "cell_type": "code",
   "execution_count": null,
   "outputs": [],
   "source": [
    "vector = model_vec.wv['dayslucky']\n",
    "model_vec.wv.most_similar('dayslucky', topn=4)"
   ],
   "metadata": {
    "collapsed": false
   }
  },
  {
   "cell_type": "code",
   "execution_count": null,
   "outputs": [],
   "source": [
    "similarity = np.zeros(len(data)* len(data)).reshape(len(data),-1)"
   ],
   "metadata": {
    "collapsed": false
   }
  },
  {
   "cell_type": "code",
   "execution_count": null,
   "outputs": [],
   "source": [
    "for ix, d in enumerate(data):\n",
    "    for ixx, dd in enumerate(data):\n",
    "        similarity[ix, ixx] = model_vec.wv.similarity(d, dd)"
   ],
   "metadata": {
    "collapsed": false
   }
  },
  {
   "cell_type": "code",
   "execution_count": null,
   "outputs": [],
   "source": [
    "pd.DataFrame(similarity, columns=data, index=data).apply(lambda x:x>0).to_numpy(int)"
   ],
   "metadata": {
    "collapsed": false
   }
  },
  {
   "cell_type": "code",
   "execution_count": null,
   "outputs": [],
   "source": [
    "edge_matrix = [[1,0,0,1], [1,0,0,1]]"
   ],
   "metadata": {
    "collapsed": false
   }
  },
  {
   "cell_type": "code",
   "execution_count": null,
   "outputs": [],
   "source": [
    "import gensim.downloader as api"
   ],
   "metadata": {
    "collapsed": false
   }
  },
  {
   "cell_type": "code",
   "execution_count": null,
   "outputs": [],
   "source": [
    "df['fraud_flag'] = df['fraud_flag'].apply(lambda x: 1 if x=='fraud' else 0)"
   ],
   "metadata": {
    "collapsed": false
   }
  },
  {
   "cell_type": "code",
   "execution_count": null,
   "outputs": [],
   "source": [
    "def build_graph_bipartite(df_input, graph_type=nx.Graph()):\n",
    "    df = df_input.copy()\n",
    "    mapping = {x:node_id for node_id,x in enumerate(set(df['email_address'].values.tolist() + df['customer_id'].values.tolist()))}\n",
    "    df['from'] = df['customer_id'].apply(lambda x: mapping[x])\n",
    "    df['to'] = df['email_address'].apply(lambda x: mapping[x])\n",
    "\n",
    "    df = df[['from', 'to', 'fraud_flag']].groupby(['from','to'])\\\n",
    "        .agg({'fraud_flag': [('velocity','count'),('fraud','mean')]})\n",
    "\n",
    "    df.columns = df.columns.get_level_values(1)\n",
    "    df = df.reset_index()\n",
    "    G = nx.from_edgelist(df[['from', 'to']].values, create_using=graph_type)\n",
    "    nx.set_edge_attributes(G, {(int(x['from']),int(x['to'])):x['velocity'] for idx, x in df[['from', 'to', 'velocity']].iterrows()}, 'velocity')\n",
    "    nx.set_edge_attributes(G, {(int(x['from']),int(x['to'])):x['fraud'] for idx, x in df[['from', 'to', 'fraud']].iterrows()}, 'fraud')\n",
    "    return G, df"
   ],
   "metadata": {
    "collapsed": false
   }
  },
  {
   "cell_type": "code",
   "execution_count": null,
   "outputs": [],
   "source": [
    "G, df_out = build_graph_bipartite(testdf, graph_type=nx.Graph())"
   ],
   "metadata": {
    "collapsed": false
   }
  },
  {
   "cell_type": "code",
   "execution_count": null,
   "outputs": [],
   "source": [
    "df_out[df_out['velocity']==2].index"
   ],
   "metadata": {
    "collapsed": false
   }
  },
  {
   "cell_type": "code",
   "execution_count": null,
   "outputs": [],
   "source": [
    "df_out = df_out.reindex(G.nodes())"
   ],
   "metadata": {
    "collapsed": false
   }
  },
  {
   "cell_type": "code",
   "execution_count": null,
   "outputs": [],
   "source": [
    "data = V\n",
    "adj = np.zeros(len(data)*len(data)).reshape(len(data),-1)\n",
    "\n",
    "for ix, d in enumerate(data):\n",
    "    for ixx, dd in enumerate(data):\n",
    "        if dd == 'C' or d =='B':\n",
    "            adj[ix, ixx] = 1\n",
    "adj matplotlib\n",
    "spring_pos = nx.spring_layout(G)\n",
    "cmap = matplotlib.colors.ListedColormap(['lightgray', 'red'])\n",
    "node_sizes = [100 if x>1 else 10 for x in df_out.velocity]\n",
    "node_colors = [1 if x>1 else 0 for x in df_out.velocity]\n",
    "edge_colors = ['r' if x==1 else 'g' for x in nx.get_edge_attributes(G, 'fraud').values()]\n",
    "nx.draw_networkx(G, pos=spring_pos, node_size=node_sizes, cmap=cmap,\n",
    "                 node_color=node_colors, edge_color=edge_colors, width=3, with_labels=False)\n",
    "plt.show()"
   ],
   "metadata": {
    "collapsed": false
   }
  },
  {
   "cell_type": "code",
   "execution_count": null,
   "outputs": [],
   "source": [
    "G = nx.from_numpy_matrix(adj)"
   ],
   "metadata": {
    "collapsed": false
   }
  }
 ],
 "metadata": {
  "kernelspec": {
   "display_name": "Python 3",
   "language": "python",
   "name": "python3"
  },
  "language_info": {
   "codemirror_mode": {
    "name": "ipython",
    "version": 2
   },
   "file_extension": ".py",
   "mimetype": "text/x-python",
   "name": "python",
   "nbconvert_exporter": "python",
   "pygments_lexer": "ipython2",
   "version": "2.7.6"
  }
 },
 "nbformat": 4,
 "nbformat_minor": 0
}
