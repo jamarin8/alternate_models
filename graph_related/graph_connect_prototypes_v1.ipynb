{
 "cells": [
  {
   "cell_type": "code",
   "execution_count": null,
   "metadata": {
    "collapsed": true
   },
   "outputs": [],
   "source": [
    "%run ./required_fxns.py"
   ]
  },
  {
   "cell_type": "code",
   "execution_count": null,
   "outputs": [],
   "source": [
    "list(df.columns)"
   ],
   "metadata": {
    "collapsed": false
   }
  },
  {
   "cell_type": "code",
   "execution_count": null,
   "outputs": [],
   "source": [
    "df_ = df.copy()\n",
    "df_ = df_.drop('index', axis=1)\n",
    "df_.to_csv('df_new.csv', index=False)"
   ],
   "metadata": {
    "collapsed": false
   }
  },
  {
   "cell_type": "code",
   "execution_count": null,
   "outputs": [],
   "source": [
    "adj = create_adjacency_matrix(df)\n",
    "G = nx.from_numpy_matrix(adj)"
   ],
   "metadata": {
    "collapsed": false
   }
  },
  {
   "cell_type": "code",
   "execution_count": null,
   "outputs": [],
   "source": [
    "edges = {}; edges2 = {}\n",
    "for e in G.edges():\n",
    "    edges[e[0],e[1]] = (df['email_address'][e[0]], df['email_address'][e[1]])\n",
    "    edges2[e[0],e[1]] = (df['fuzzy_device_id'][e[0]][:7], df['fuzzy_device_id'][e[1]][:7])"
   ],
   "metadata": {
    "collapsed": false
   }
  },
  {
   "cell_type": "code",
   "execution_count": null,
   "outputs": [],
   "source": [
    "edges"
   ],
   "metadata": {
    "collapsed": false
   }
  },
  {
   "cell_type": "code",
   "execution_count": null,
   "outputs": [],
   "source": [
    "[e for e in G.edges]"
   ],
   "metadata": {
    "collapsed": false
   }
  },
  {
   "cell_type": "code",
   "execution_count": null,
   "outputs": [],
   "source": [
    "df = testdf\n",
    "mapping = {x:node_id for node_id,x in enumerate(set(df['email'].values.tolist() + df['customer_id'].values.tolist()))}\n",
    "df['from'] = df['customer_id'].apply(lambda x: mapping[x])\n",
    "df['to'] = df['email'].apply(lambda x: mapping[x])"
   ],
   "metadata": {
    "collapsed": false
   }
  },
  {
   "cell_type": "code",
   "execution_count": null,
   "outputs": [],
   "source": [
    "G = nx.from_edgelist(df[['from', 'to']].values, create_using=nx.Graph())"
   ],
   "metadata": {
    "collapsed": false
   }
  },
  {
   "cell_type": "code",
   "execution_count": null,
   "outputs": [],
   "source": [
    "G.edges"
   ],
   "metadata": {
    "collapsed": false
   }
  },
  {
   "cell_type": "code",
   "execution_count": null,
   "outputs": [],
   "source": [
    "edges = dict(zip([e for e in G.edges if e[0] != e[1]],\n",
    "         testdf['email'][~pd.Series(testdf['email']).duplicated(keep='first')]))"
   ],
   "metadata": {
    "collapsed": false
   }
  },
  {
   "cell_type": "code",
   "execution_count": null,
   "outputs": [],
   "source": [
    "ssh = {}\n",
    "for x in df[['email', 'from', 'to']].iterrows():\n",
    "#     print (x[1]['from'], x[1]['to'])\n",
    "    ssh[x[1]['from'], x[1]['to']] = x[1]['email']\n",
    "#     print( int(x['from']), int(x['to'])):x['email']\n",
    "ssh"
   ],
   "metadata": {
    "collapsed": false
   }
  },
  {
   "cell_type": "code",
   "execution_count": null,
   "outputs": [],
   "source": [
    "import matplotlib\n",
    "spring_pos = nx.spring_layout(G)\n",
    "cmap = matplotlib.colors.ListedColormap(['lightgray', 'red'])\n",
    "# node_sizes = [100 if x>1 else 10 for x in df_out.velocity]\n",
    "node_colors = testdf.fraud\n",
    "# edge_colors = ['r' if x==1 else 'g' for x in nx.get_edge_attributes(G, 'fraud').values()]\n",
    "nx.draw_networkx(G, pos=spring_pos, cmap=cmap,\n",
    "                 node_color=node_colors, width=3, with_labels=True,\n",
    "                 labels=dict(zip(range(len(testdf)), testdf['email'])))\n",
    "plt.show()"
   ],
   "metadata": {
    "collapsed": false
   }
  },
  {
   "cell_type": "code",
   "execution_count": null,
   "outputs": [],
   "source": [
    "def build_graph(df_input, graph_type=nx.Graph()):\n",
    "    df = df_input.copy()\n",
    "    mapping = {x:node_id for node_id,x in\n",
    "               enumerate(set(df['customer_id'].values.tolist() + df['email'].values.tolist()\n",
    "                            + df['device_id'].values.tolist()))}\n",
    "    df['from'] = df['customer_id'].apply(lambda x: mapping[x])\n",
    "    df['to'] = df['email'].apply(lambda x: mapping[x])\n",
    "    df['to_2'] = (df['device_id'].apply(lambda x: mapping[x]))\n",
    "\n",
    "    G = nx.from_edgelist(df[['from', 'to']].values, create_using=graph_type)\n",
    "    nx.set_edge_attributes(G, {(int(x['from']),int(x['to'])):x['email'] for idx, x in df[['from', 'to', 'email']].iterrows()}, 'email')\n",
    "    nx.set_edge_attributes(G, {(int(x['from']),int(x['to_2'])):x['device_id'] for idx, x in df[['from', 'to_2', 'device_id']].iterrows()}, 'device_id')\n",
    "\n",
    "    return G, df"
   ],
   "metadata": {
    "collapsed": false
   }
  },
  {
   "cell_type": "code",
   "execution_count": null,
   "outputs": [],
   "source": [
    "G, df = build_graph(testdf)\n",
    "df"
   ],
   "metadata": {
    "collapsed": false
   }
  },
  {
   "cell_type": "code",
   "execution_count": null,
   "outputs": [],
   "source": [
    "nx.draw(G, with_labels=True, labels=dict(zip(range(len(testdf)), testdf['customer_id'])))\n",
    "plt.show()"
   ],
   "metadata": {
    "collapsed": false
   }
  },
  {
   "cell_type": "code",
   "execution_count": null,
   "outputs": [],
   "source": [
    "%matplotlib inline"
   ],
   "metadata": {
    "collapsed": false
   }
  },
  {
   "cell_type": "code",
   "execution_count": null,
   "outputs": [],
   "source": [
    "import sys\n",
    "sys.path.append('GRAPH_INSIGHTS/lib')\n",
    "sys.path"
   ],
   "metadata": {
    "collapsed": false
   }
  },
  {
   "cell_type": "code",
   "execution_count": null,
   "outputs": [],
   "source": [
    "import networkx as nx\n",
    "from networkx.drawing.nx_agraph import graphviz_layout"
   ],
   "metadata": {
    "collapsed": false
   }
  },
  {
   "cell_type": "code",
   "execution_count": null,
   "outputs": [],
   "source": [
    "import os\n",
    "os.environ['PATH']"
   ],
   "metadata": {
    "collapsed": false
   }
  },
  {
   "cell_type": "code",
   "execution_count": null,
   "outputs": [],
   "source": [
    "os.environ['PATH'] += os.pathsep+'/root/GRAPH_INSIGHTS/lib/python3.7/site_packages/graphviz/'"
   ],
   "metadata": {
    "collapsed": false
   }
  },
  {
   "cell_type": "code",
   "execution_count": null,
   "outputs": [],
   "source": [
    "graph_email_network(G, df, edges)"
   ],
   "metadata": {
    "collapsed": false
   }
  },
  {
   "cell_type": "code",
   "execution_count": null,
   "outputs": [],
   "source": [
    "graph_device_id_network(G, df, edges2)"
   ],
   "metadata": {
    "collapsed": false
   }
  },
  {
   "cell_type": "code",
   "execution_count": null,
   "outputs": [],
   "source": [
    "search_by_email()"
   ],
   "metadata": {
    "collapsed": false
   }
  },
  {
   "cell_type": "code",
   "execution_count": null,
   "outputs": [],
   "source": [
    "search_by_fuzzy_device_id()"
   ],
   "metadata": {
    "collapsed": false
   }
  },
  {
   "cell_type": "code",
   "execution_count": null,
   "outputs": [],
   "source": [
    "search_by_customer_id()"
   ],
   "metadata": {
    "collapsed": false
   }
  },
  {
   "cell_type": "code",
   "execution_count": null,
   "outputs": [],
   "source": [
    "search_by_email()"
   ],
   "metadata": {
    "collapsed": false
   }
  },
  {
   "cell_type": "code",
   "execution_count": null,
   "outputs": [],
   "source": [],
   "metadata": {
    "collapsed": false
   }
  },
  {
   "cell_type": "code",
   "execution_count": null,
   "outputs": [],
   "source": [
    "from graphviz import dot\n",
    "try:\n",
    "    import pygraphviz\n",
    "    from networkx.drawing.nx_agraph import graphviz_layout\n",
    "except ImportError:\n",
    "    try:\n",
    "        import pydot\n",
    "        from networkx.drawing.nx_pydot import graphviz_layout\n",
    "    except ImportError:\n",
    "        raise ImportError(\"This example needs Graphviz and either \"\n",
    "                              \"PyGraphviz or PyDotPlus\")\n",
    "plt.figure(figsize=(6,8))\n",
    "G = nx.complete_graph(5)\n",
    "pos=nx.nx_pydot.graphviz_layout(G, 'dot')\n",
    "\n",
    "nx.draw_networkx_nodes(G,pos,nodelist=G.nodes(),node_size=node_sizes,\\\n",
    "linewidths=0.1,vmin=0,vmax=1,alpha=0.8,\\\n",
    "node_color=[D[n] for n in G.nodes()])\n",
    "\n",
    "nx.draw_networkx_edges(G,pos,edgelist=G.edges(),width=0.1,\\\n",
    "edge_color=\"black\",alpha=0.6)\n",
    "plt.axis('off')\n",
    "plt.tight_layout()\n",
    "plt.show()"
   ],
   "metadata": {
    "collapsed": false
   }
  }
 ],
 "metadata": {
  "kernelspec": {
   "display_name": "Python 3",
   "language": "python",
   "name": "python3"
  },
  "language_info": {
   "codemirror_mode": {
    "name": "ipython",
    "version": 2
   },
   "file_extension": ".py",
   "mimetype": "text/x-python",
   "name": "python",
   "nbconvert_exporter": "python",
   "pygments_lexer": "ipython2",
   "version": "2.7.6"
  }
 },
 "nbformat": 4,
 "nbformat_minor": 0
}
